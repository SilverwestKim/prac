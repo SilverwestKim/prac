{
 "cells": [
  {
   "cell_type": "markdown",
   "metadata": {},
   "source": [
    "## 1) 코인 투자"
   ]
  },
  {
   "cell_type": "code",
   "execution_count": 6,
   "metadata": {
    "scrolled": true
   },
   "outputs": [],
   "source": [
    "def max_profit(prices):\n",
    "    n = len(prices)\n",
    "    max_profit = 0\n",
    "    min_price = prices[0]\n",
    "    \n",
    "    for i in range(1,n):\n",
    "        profit = prices[i] - min_price\n",
    "        if profit > max_profit :\n",
    "            max_profit = profit\n",
    "        if prices[i] < min_price:\n",
    "            min_price = prices[i]\n",
    "    return max_profit\n"
   ]
  },
  {
   "cell_type": "markdown",
   "metadata": {},
   "source": [
    "#### Test example"
   ]
  },
  {
   "cell_type": "code",
   "execution_count": 7,
   "metadata": {},
   "outputs": [
    {
     "data": {
      "text/plain": [
       "2400"
      ]
     },
     "execution_count": 7,
     "metadata": {},
     "output_type": "execute_result"
    }
   ],
   "source": [
    "s=[10300, 9600, 8200, 7800, 8300, 9500, 9800, 10200, 9500]\n",
    "max_profit(s)"
   ]
  },
  {
   "cell_type": "markdown",
   "metadata": {},
   "source": [
    "## 2) 밤 판매"
   ]
  },
  {
   "cell_type": "code",
   "execution_count": 1,
   "metadata": {},
   "outputs": [],
   "source": [
    "class FenwickTree:\n",
    "    def __init__(self, size):\n",
    "        self.size = size\n",
    "        self.tree = [0 for i in range(size+1)]\n",
    "\n",
    "    def get(self, index):\n",
    "        sum = 0\n",
    "        while index:\n",
    "            sum += self.tree[index]\n",
    "            index &= index-1\n",
    "        return sum\n",
    "\n",
    "    def _add(self, index, value):\n",
    "        while index <= self.size:\n",
    "            self.tree[index] += value\n",
    "            index += (index & -index)\n",
    "\n",
    "    def add(self, left, right, value):\n",
    "        self._add(left, value)\n",
    "        self._add(right+1, -value)"
   ]
  },
  {
   "cell_type": "code",
   "execution_count": 2,
   "metadata": {},
   "outputs": [
    {
     "name": "stdout",
     "output_type": "stream",
     "text": [
      "3\n",
      "3 2 7\n",
      "4 2 6\n",
      "5 3 8\n"
     ]
    }
   ],
   "source": [
    "N = int(input())\n",
    "shell = [[]]\n",
    "for i in range(N):\n",
    "    shell.append([0] + list(map(int, input().split())))\n",
    "\n",
    "shell_sum = [[0 for i in range(N+1)] for j in range(N+1)]\n",
    "shell_sum[1][1] = shell[1][1]\n",
    "sum = shell[1][1]"
   ]
  },
  {
   "cell_type": "code",
   "execution_count": 3,
   "metadata": {},
   "outputs": [
    {
     "name": "stdout",
     "output_type": "stream",
     "text": [
      "107\n"
     ]
    }
   ],
   "source": [
    "for k in range(2, 2*N):\n",
    "    y = k\n",
    "    x = 1\n",
    "    if y > N:\n",
    "        x += y - N\n",
    "        y = N\n",
    "    while x <= N and y >= 1:\n",
    "        ans = 0\n",
    "        if y > 1:\n",
    "            ans = shell_sum[y-1][x]\n",
    "        if x > 1:\n",
    "            ans = max(ans, shell_sum[y][x-1])\n",
    "        ans += shell[y][x]\n",
    "        shell_sum[y][x] = ans\n",
    "        sum += ans\n",
    "        x += 1\n",
    "        y -= 1\n",
    "\n",
    "print(sum)"
   ]
  },
  {
   "cell_type": "code",
   "execution_count": 4,
   "metadata": {},
   "outputs": [],
   "source": [
    "change = [None]\n",
    "for i in range(1, N+1):\n",
    "    change.append(FenwickTree(N))"
   ]
  },
  {
   "cell_type": "code",
   "execution_count": 5,
   "metadata": {},
   "outputs": [
    {
     "name": "stdout",
     "output_type": "stream",
     "text": [
      "A 1 2\n",
      "111\n",
      "B 3 2\n",
      "110\n",
      "A 1 2\n",
      "114\n"
     ]
    }
   ],
   "source": [
    "def get_sum(y, x):\n",
    "    global change, shell_sum\n",
    "    return shell_sum[y][x] + change[y].get(x)\n",
    "\n",
    "\n",
    "for i in range(N):\n",
    "    qin = input().split()\n",
    "    y0 = int(qin[1])\n",
    "    x0 = int(qin[2])\n",
    "    if qin[0] == 'A':\n",
    "        diff = 1\n",
    "    else:\n",
    "        diff = -1\n",
    "    left = x0\n",
    "    right = left\n",
    "    y = y0\n",
    "\n",
    "    update_list = []\n",
    "    if y == 1:\n",
    "        right = N\n",
    "    while right < N and (get_sum(y, right) > get_sum(y-1, right+1) or (get_sum(y, right) == get_sum(y-1, right+1) and diff == 1)):\n",
    "        right += 1\n",
    "    sum += (right - left + 1) * diff\n",
    "    update_list.append((y, left, right))\n",
    "\n",
    "    y += 1\n",
    "    while y <= N:\n",
    "        while left <= right:\n",
    "            if left == 1 or get_sum(y-1, left) > get_sum(y, left-1) or (get_sum(y-1, left) == get_sum(y, left-1) and diff == 1):\n",
    "                break\n",
    "            left += 1\n",
    "        if left > right:\n",
    "            break\n",
    "        while right < N and (get_sum(y, right) > get_sum(y-1, right+1) or (get_sum(y, right) == get_sum(y-1, right+1) and diff == 1)):\n",
    "            right += 1\n",
    "        sum += (right - left + 1) * diff\n",
    "        update_list.append((y, left, right))\n",
    "        y += 1\n",
    "\n",
    "    for y, left, right in update_list:\n",
    "        change[y].add(left, right, diff)\n",
    "\n",
    "    print(sum)\n",
    "    shell[y0][x0] += diff"
   ]
  },
  {
   "cell_type": "code",
   "execution_count": null,
   "metadata": {},
   "outputs": [],
   "source": []
  }
 ],
 "metadata": {
  "kernelspec": {
   "display_name": "Python 3",
   "language": "python",
   "name": "python3"
  },
  "language_info": {
   "codemirror_mode": {
    "name": "ipython",
    "version": 3
   },
   "file_extension": ".py",
   "mimetype": "text/x-python",
   "name": "python",
   "nbconvert_exporter": "python",
   "pygments_lexer": "ipython3",
   "version": "3.6.5"
  }
 },
 "nbformat": 4,
 "nbformat_minor": 2
}
